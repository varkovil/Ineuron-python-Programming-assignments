{
 "cells": [
  {
   "cell_type": "code",
   "execution_count": 8,
   "id": "5352cf37",
   "metadata": {},
   "outputs": [
    {
     "data": {
      "text/plain": [
       "2"
      ]
     },
     "execution_count": 8,
     "metadata": {},
     "output_type": "execute_result"
    }
   ],
   "source": [
    "#Q1. function that takes three integer arguments (a, b, c) and returns the amount of integers which are of equal value.\n",
    "\n",
    "def intcount(a,b,c):\n",
    "    '''returns the count of equal intergers'''\n",
    "    s=0\n",
    "    if a==b==c :\n",
    "        s=3\n",
    "    elif a==b or b==c or a==c:\n",
    "        s=2\n",
    "    return s\n",
    "\n",
    "intcount(1,2,2)\n",
    "\n",
    "\n",
    "\n",
    "\n",
    "        "
   ]
  },
  {
   "cell_type": "code",
   "execution_count": 9,
   "id": "ebea4b53",
   "metadata": {},
   "outputs": [
    {
     "data": {
      "text/plain": [
       "3"
      ]
     },
     "execution_count": 9,
     "metadata": {},
     "output_type": "execute_result"
    }
   ],
   "source": [
    "intcount(4,4,4)"
   ]
  },
  {
   "cell_type": "code",
   "execution_count": null,
   "id": "dab828eb",
   "metadata": {},
   "outputs": [],
   "source": []
  },
  {
   "cell_type": "code",
   "execution_count": 41,
   "id": "302c643b",
   "metadata": {},
   "outputs": [
    {
     "name": "stdout",
     "output_type": "stream",
     "text": [
      "[(1, 'rain'), (2, 'summer'), (3, 'winter'), (4, 'spring')]\n"
     ]
    }
   ],
   "source": [
    "# Q2: function that converts a dictionary into a list of keys-values tuples.\n",
    "\n",
    "def dtl(dic):\n",
    "    '''returns a dictionary as a list of keys-values tuples'''\n",
    "    tk=tuple(dic.keys())\n",
    "    tv=tuple(dic.values())\n",
    "    fl=[]\n",
    "    for i in range(len(tk)):\n",
    "        fl.append((tk[i],tv[i]))\n",
    "    return fl\n",
    "\n",
    "d={1:'rain',2:'summer', 3:'winter',4:'spring'}\n",
    "res=dtl(d)\n",
    "print(res)"
   ]
  },
  {
   "cell_type": "code",
   "execution_count": null,
   "id": "ee567d38",
   "metadata": {},
   "outputs": [],
   "source": []
  },
  {
   "cell_type": "code",
   "execution_count": null,
   "id": "43ed7a2a",
   "metadata": {},
   "outputs": [],
   "source": []
  },
  {
   "cell_type": "code",
   "execution_count": 3,
   "id": "39ed74b6",
   "metadata": {},
   "outputs": [],
   "source": [
    "#Q3. create a dictionary with each (key, value) pair being the (lower case,upper case) versions of a letter\n",
    "\n",
    "def makedict(a):\n",
    "    '''create dictionary with lowercase and uppercase as key:value pair'''\n",
    "    d={a:a.upper()}\n",
    "    return d"
   ]
  },
  {
   "cell_type": "code",
   "execution_count": 1,
   "id": "108aaca7",
   "metadata": {},
   "outputs": [
    {
     "name": "stdout",
     "output_type": "stream",
     "text": [
      "enter the number of letters:10\n",
      "enter the letter in lowercase:s\n",
      "enter the letter in lowercase:v\n",
      "enter the letter in lowercase:u\n",
      "enter the letter in lowercase:d\n",
      "enter the letter in lowercase:k\n",
      "enter the letter in lowercase:e\n",
      "enter the letter in lowercase:l\n",
      "enter the letter in lowercase:p\n",
      "enter the letter in lowercase:m\n",
      "enter the letter in lowercase:i\n",
      "['s', 'v', 'u', 'd', 'k', 'e', 'l', 'p', 'm', 'i']\n"
     ]
    }
   ],
   "source": [
    "n=int(input(\"enter the number of letters:\"))\n",
    "l=[]\n",
    "for i in range(n):\n",
    "    l.append(input('enter the letter in lowercase:'))\n",
    "print(l)"
   ]
  },
  {
   "cell_type": "code",
   "execution_count": 4,
   "id": "f15f189e",
   "metadata": {},
   "outputs": [
    {
     "name": "stdout",
     "output_type": "stream",
     "text": [
      "{'s': 'S', 'v': 'V', 'u': 'U', 'd': 'D', 'k': 'K', 'e': 'E', 'l': 'L', 'p': 'P', 'm': 'M', 'i': 'I'}\n"
     ]
    }
   ],
   "source": [
    "dict={}\n",
    "for i in range(n):\n",
    "    dict.update(makedict(l[i]))\n",
    "print(dict)"
   ]
  },
  {
   "cell_type": "code",
   "execution_count": null,
   "id": "bd53b9ab",
   "metadata": {},
   "outputs": [],
   "source": []
  },
  {
   "cell_type": "code",
   "execution_count": null,
   "id": "4b7d942d",
   "metadata": {},
   "outputs": [],
   "source": []
  },
  {
   "cell_type": "code",
   "execution_count": 16,
   "id": "55ffea4e",
   "metadata": {},
   "outputs": [],
   "source": [
    "# Q4 Replacing all vowels in a string with a specified vowel.\n",
    "\n",
    "def vowrep(t,p):\n",
    "    '''replace all vowels in a string with a specified vowel'''\n",
    "    t=t.replace('a',p)\n",
    "    t=t.replace('e',p)\n",
    "    t=t.replace('i',p)\n",
    "    t=t.replace('o',p)\n",
    "    t=t.replace('u',p)\n",
    "    return t        \n",
    "            "
   ]
  },
  {
   "cell_type": "code",
   "execution_count": 17,
   "id": "cef9c7ca",
   "metadata": {},
   "outputs": [
    {
     "name": "stdout",
     "output_type": "stream",
     "text": [
      "enter the string where you want to replace the vowels:i want to see you\n",
      "enter the vowel to replace all vowels:u\n",
      "i want to see you\n",
      "u wunt tu suu yuu\n"
     ]
    }
   ],
   "source": [
    "s=input(\"enter the string where you want to replace the vowels:\")\n",
    "r=input(\"enter the vowel to replace all vowels:\")\n",
    "print(s)\n",
    "f=vowrep(s,r)\n",
    "print(f)"
   ]
  },
  {
   "cell_type": "code",
   "execution_count": null,
   "id": "c12181d3",
   "metadata": {},
   "outputs": [],
   "source": []
  },
  {
   "cell_type": "code",
   "execution_count": 42,
   "id": "6572368e",
   "metadata": {},
   "outputs": [],
   "source": [
    "# Q5 function that takes a string as input and capitalizes a letter if its ASCII code is even and returns its lower case version if its ASCII code is odd.\n",
    "\n",
    "def asccap(d):\n",
    "    '''takes a string as input and capitalizes a letter if its ASCII code is even and returns its lower case version if its ASCII code is odd'''\n",
    "    for i in range(len(d)):\n",
    "        if ord(d[i])%2==0:\n",
    "            d=d.replace(d[i],d[i].upper())\n",
    "        else:\n",
    "            d=d.replace(d[i],d[i].lower())\n",
    "    return d\n",
    "\n",
    "            "
   ]
  },
  {
   "cell_type": "code",
   "execution_count": 43,
   "id": "a06a06c8",
   "metadata": {},
   "outputs": [
    {
     "name": "stdout",
     "output_type": "stream",
     "text": [
      "enter the string to be modified:it is a jolly good day\n",
      "iT is a JoLLy gooD Day\n"
     ]
    }
   ],
   "source": [
    "s=input(\"enter the string to be modified:\")\n",
    "op=asccap(s)\n",
    "print (op)"
   ]
  },
  {
   "cell_type": "code",
   "execution_count": null,
   "id": "c41849a0",
   "metadata": {},
   "outputs": [],
   "source": []
  },
  {
   "cell_type": "code",
   "execution_count": null,
   "id": "17057e0c",
   "metadata": {},
   "outputs": [],
   "source": []
  },
  {
   "cell_type": "code",
   "execution_count": null,
   "id": "567c9e74",
   "metadata": {},
   "outputs": [],
   "source": []
  },
  {
   "cell_type": "code",
   "execution_count": null,
   "id": "ffd6febf",
   "metadata": {},
   "outputs": [],
   "source": []
  },
  {
   "cell_type": "code",
   "execution_count": null,
   "id": "109bd6de",
   "metadata": {},
   "outputs": [],
   "source": []
  },
  {
   "cell_type": "code",
   "execution_count": null,
   "id": "43369111",
   "metadata": {},
   "outputs": [],
   "source": []
  },
  {
   "cell_type": "code",
   "execution_count": null,
   "id": "54665a0a",
   "metadata": {},
   "outputs": [],
   "source": []
  },
  {
   "cell_type": "code",
   "execution_count": null,
   "id": "cd425903",
   "metadata": {},
   "outputs": [],
   "source": []
  },
  {
   "cell_type": "code",
   "execution_count": null,
   "id": "c1fce6d4",
   "metadata": {},
   "outputs": [],
   "source": []
  },
  {
   "cell_type": "code",
   "execution_count": null,
   "id": "1278b640",
   "metadata": {},
   "outputs": [],
   "source": []
  },
  {
   "cell_type": "code",
   "execution_count": null,
   "id": "73b47879",
   "metadata": {},
   "outputs": [],
   "source": []
  },
  {
   "cell_type": "code",
   "execution_count": null,
   "id": "66e5af54",
   "metadata": {},
   "outputs": [],
   "source": [
    "\n"
   ]
  },
  {
   "cell_type": "code",
   "execution_count": null,
   "id": "e8d3b506",
   "metadata": {},
   "outputs": [],
   "source": []
  },
  {
   "cell_type": "code",
   "execution_count": null,
   "id": "08dbd4a9",
   "metadata": {},
   "outputs": [],
   "source": []
  },
  {
   "cell_type": "code",
   "execution_count": null,
   "id": "469697b2",
   "metadata": {},
   "outputs": [],
   "source": []
  },
  {
   "cell_type": "code",
   "execution_count": null,
   "id": "d3b04e3e",
   "metadata": {},
   "outputs": [],
   "source": []
  },
  {
   "cell_type": "code",
   "execution_count": null,
   "id": "e5893600",
   "metadata": {},
   "outputs": [],
   "source": []
  },
  {
   "cell_type": "code",
   "execution_count": null,
   "id": "534c21d5",
   "metadata": {},
   "outputs": [],
   "source": []
  },
  {
   "cell_type": "code",
   "execution_count": null,
   "id": "550883fa",
   "metadata": {},
   "outputs": [],
   "source": []
  },
  {
   "cell_type": "code",
   "execution_count": null,
   "id": "75c501a9",
   "metadata": {},
   "outputs": [],
   "source": []
  },
  {
   "cell_type": "code",
   "execution_count": null,
   "id": "f0b75252",
   "metadata": {},
   "outputs": [],
   "source": []
  },
  {
   "cell_type": "code",
   "execution_count": null,
   "id": "de5ae6cd",
   "metadata": {},
   "outputs": [],
   "source": []
  },
  {
   "cell_type": "code",
   "execution_count": null,
   "id": "824b774f",
   "metadata": {},
   "outputs": [],
   "source": []
  },
  {
   "cell_type": "code",
   "execution_count": null,
   "id": "db373bb8",
   "metadata": {},
   "outputs": [],
   "source": []
  },
  {
   "cell_type": "code",
   "execution_count": null,
   "id": "04a1f48f",
   "metadata": {},
   "outputs": [],
   "source": []
  },
  {
   "cell_type": "code",
   "execution_count": null,
   "id": "12c791f8",
   "metadata": {},
   "outputs": [],
   "source": []
  },
  {
   "cell_type": "code",
   "execution_count": null,
   "id": "ccabce51",
   "metadata": {},
   "outputs": [],
   "source": []
  },
  {
   "cell_type": "code",
   "execution_count": null,
   "id": "a1c59b46",
   "metadata": {},
   "outputs": [],
   "source": []
  },
  {
   "cell_type": "code",
   "execution_count": null,
   "id": "882ff58c",
   "metadata": {},
   "outputs": [],
   "source": []
  },
  {
   "cell_type": "code",
   "execution_count": null,
   "id": "4afc94f8",
   "metadata": {},
   "outputs": [],
   "source": []
  },
  {
   "cell_type": "code",
   "execution_count": null,
   "id": "6dcfab33",
   "metadata": {},
   "outputs": [],
   "source": []
  },
  {
   "cell_type": "code",
   "execution_count": null,
   "id": "1bfcabc0",
   "metadata": {},
   "outputs": [],
   "source": []
  },
  {
   "cell_type": "code",
   "execution_count": null,
   "id": "eda74ca3",
   "metadata": {},
   "outputs": [],
   "source": []
  },
  {
   "cell_type": "code",
   "execution_count": null,
   "id": "8ffc5dce",
   "metadata": {},
   "outputs": [],
   "source": []
  }
 ],
 "metadata": {
  "kernelspec": {
   "display_name": "Python 3 (ipykernel)",
   "language": "python",
   "name": "python3"
  },
  "language_info": {
   "codemirror_mode": {
    "name": "ipython",
    "version": 3
   },
   "file_extension": ".py",
   "mimetype": "text/x-python",
   "name": "python",
   "nbconvert_exporter": "python",
   "pygments_lexer": "ipython3",
   "version": "3.9.7"
  }
 },
 "nbformat": 4,
 "nbformat_minor": 5
}
